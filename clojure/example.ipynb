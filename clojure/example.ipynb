{
 "cells": [
  {
   "cell_type": "code",
   "execution_count": 22,
   "metadata": {},
   "outputs": [
    {
     "data": {
      "text/plain": [
       "nil\n"
      ]
     },
     "execution_count": 22,
     "metadata": {},
     "output_type": "execute_result"
    }
   ],
   "source": [
    "(ns vlado)"
   ]
  },
  {
   "cell_type": "code",
   "execution_count": 23,
   "metadata": {},
   "outputs": [
    {
     "data": {
      "text/plain": [
       "#'vlado/program\n"
      ]
     },
     "execution_count": 23,
     "metadata": {},
     "output_type": "execute_result"
    }
   ],
   "source": [
    "(def program \"1 2 + 4 +\")"
   ]
  },
  {
   "cell_type": "code",
   "execution_count": 24,
   "metadata": {},
   "outputs": [
    {
     "data": {
      "text/plain": [
       "[1 2 + 4 +]\n"
      ]
     },
     "execution_count": 24,
     "metadata": {},
     "output_type": "execute_result"
    }
   ],
   "source": [
    "(read-string (str \"[\" program \"]\"))"
   ]
  },
  {
   "cell_type": "code",
   "execution_count": 25,
   "metadata": {},
   "outputs": [
    {
     "data": {
      "text/plain": [
       "IEvaluate\n"
      ]
     },
     "execution_count": 25,
     "metadata": {},
     "output_type": "execute_result"
    }
   ],
   "source": [
    "(defprotocol IEvaluate\n",
    "    \"protocol for evaluation of prgram\"\n",
    "    (-eval [this state]))"
   ]
  },
  {
   "cell_type": "code",
   "execution_count": 26,
   "metadata": {},
   "outputs": [
    {
     "data": {
      "text/plain": [
       "vlado.State\n"
      ]
     },
     "execution_count": 26,
     "metadata": {},
     "output_type": "execute_result"
    }
   ],
   "source": [
    "(defrecord State [ds ps env])"
   ]
  },
  {
   "cell_type": "code",
   "execution_count": 63,
   "metadata": {},
   "outputs": [
    {
     "data": {
      "text/plain": [
       "nil\n"
      ]
     },
     "execution_count": 63,
     "metadata": {},
     "output_type": "execute_result"
    }
   ],
   "source": [
    "(extend-protocol IEvaluate\n",
    "    java.lang.Long\n",
    "    (-eval [this state]\n",
    "        (update-in state [:ds] conj this))\n",
    "    clojure.lang.Symbol\n",
    "    (-eval [this state]\n",
    "        (let [[a b & ds] (:ds state)\n",
    "              f (this (:env state))]\n",
    "          (f state)\n",
    ")))\n",
    ";;(extends? java.lang.Long IEvaluate)"
   ]
  },
  {
   "cell_type": "code",
   "execution_count": 28,
   "metadata": {},
   "outputs": [
    {
     "data": {
      "text/plain": [
       "#'vlado/wrap-function\n"
      ]
     },
     "execution_count": 28,
     "metadata": {},
     "output_type": "execute_result"
    }
   ],
   "source": [
    "(defn wrap-function [f num-args]\n",
    "    (fn [{:keys [ds ps] :as state}]\n",
    "        (let [args (take num-args ds)\n",
    "              rest-args (drop num-args ds)]\n",
    "              (assoc state :ds (vec (concat [(apply f args)] rest-args))))))"
   ]
  },
  {
   "cell_type": "code",
   "execution_count": 61,
   "metadata": {},
   "outputs": [
    {
     "data": {
      "text/plain": [
       "#'vlado/if-function\n"
      ]
     },
     "execution_count": 61,
     "metadata": {},
     "output_type": "execute_result"
    }
   ],
   "source": [
    "(defn if-function [{:keys [ds ps] :as state}]\n",
    "    (let [[pred & ds] ds\n",
    "          [then else & ps] ps]\n",
    "        (assoc state :ps (concat ps (if pred then else))\n",
    "                     :ds ds)\n",
    "    )\n",
    ")"
   ]
  },
  {
   "cell_type": "code",
   "execution_count": 68,
   "metadata": {},
   "outputs": [
    {
     "data": {
      "text/plain": [
       "#'vlado/init-keywords\n"
      ]
     },
     "execution_count": 68,
     "metadata": {},
     "output_type": "execute_result"
    }
   ],
   "source": [
    "(defn init-keywords []\n",
    "    {'+ (wrap-function + 2)\n",
    "     '- (wrap-function - 2)\n",
    "     '* (wrap-function * 2)\n",
    "     '= (wrap-function = 2)\n",
    "     '< (wrap-function < 2)\n",
    "     '> (wrap-function > 2)\n",
    "     'if if-function\n",
    "    }\n",
    ")"
   ]
  },
  {
   "cell_type": "code",
   "execution_count": 31,
   "metadata": {},
   "outputs": [
    {
     "data": {
      "text/plain": [
       "#'vlado/init-state\n"
      ]
     },
     "execution_count": 31,
     "metadata": {},
     "output_type": "execute_result"
    }
   ],
   "source": [
    "(defn init-state [program]\n",
    "    (State. [] (read-string (str \"[\" program \"]\")) (init-keywords)))\n",
    "\n",
    ";;(init-state program)"
   ]
  },
  {
   "cell_type": "code",
   "execution_count": 67,
   "metadata": {},
   "outputs": [
    {
     "data": {
      "text/plain": [
       "#'vlado/interpret\n",
       "3\n"
      ]
     },
     "execution_count": 67,
     "metadata": {},
     "output_type": "execute_result"
    }
   ],
   "source": [
    "(defn interpret [program]\n",
    "    (loop [state (init-state program)]\n",
    "        (let [ch (first (:ps state))\n",
    "              state (update-in state [:ps] rest)]\n",
    "            (if ch\n",
    "                (recur (-eval ch state))\n",
    "                (first (:ds state))\n",
    "))))\n",
    "\n",
    "(interpret \"1 2 3 + * 9 = if [2 1 +] [2 1 -]\")"
   ]
  },
  {
   "cell_type": "code",
   "execution_count": 70,
   "metadata": {},
   "outputs": [
    {
     "data": {
      "text/plain": [
       "0\n"
      ]
     },
     "execution_count": 70,
     "metadata": {},
     "output_type": "execute_result"
    }
   ],
   "source": [
    "(interpret \"1 2 < if [0] [1]\")"
   ]
  }
 ],
 "metadata": {
  "kernelspec": {
   "display_name": "Clojure",
   "language": "clojure",
   "name": "clojure"
  },
  "language_info": {
   "file_extension": ".clj",
   "name": "clojure",
   "version": "1.8.0"
  }
 },
 "nbformat": 4,
 "nbformat_minor": 2
}
