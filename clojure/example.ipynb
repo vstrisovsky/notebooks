{
 "cells": [
  {
   "cell_type": "code",
   "execution_count": 40,
   "metadata": {},
   "outputs": [
    {
     "data": {
      "text/plain": [
       "nil\n"
      ]
     },
     "execution_count": 40,
     "metadata": {},
     "output_type": "execute_result"
    }
   ],
   "source": [
    "(ns vlado)"
   ]
  },
  {
   "cell_type": "code",
   "execution_count": 41,
   "metadata": {},
   "outputs": [
    {
     "data": {
      "text/plain": [
       "#'vlado/program\n"
      ]
     },
     "execution_count": 41,
     "metadata": {},
     "output_type": "execute_result"
    }
   ],
   "source": [
    "(def program \"1 2 + 4 +\")"
   ]
  },
  {
   "cell_type": "code",
   "execution_count": 42,
   "metadata": {},
   "outputs": [
    {
     "data": {
      "text/plain": [
       "[1 2 + 4 +]\n"
      ]
     },
     "execution_count": 42,
     "metadata": {},
     "output_type": "execute_result"
    }
   ],
   "source": [
    "(read-string (str \"[\" program \"]\"))"
   ]
  },
  {
   "cell_type": "code",
   "execution_count": 43,
   "metadata": {},
   "outputs": [
    {
     "data": {
      "text/plain": [
       "IEvaluate\n"
      ]
     },
     "execution_count": 43,
     "metadata": {},
     "output_type": "execute_result"
    }
   ],
   "source": [
    "(defprotocol IEvaluate\n",
    "    \"protocol for evaluation of prgram\"\n",
    "    (-eval [this state]))"
   ]
  },
  {
   "cell_type": "code",
   "execution_count": 44,
   "metadata": {},
   "outputs": [
    {
     "data": {
      "text/plain": [
       "vlado.State\n"
      ]
     },
     "execution_count": 44,
     "metadata": {},
     "output_type": "execute_result"
    }
   ],
   "source": [
    "(defrecord State [ds ps env])"
   ]
  },
  {
   "cell_type": "code",
   "execution_count": 45,
   "metadata": {},
   "outputs": [
    {
     "data": {
      "text/plain": [
       "nil\n"
      ]
     },
     "execution_count": 45,
     "metadata": {},
     "output_type": "execute_result"
    }
   ],
   "source": [
    "(extend-protocol IEvaluate\n",
    "    java.lang.Long\n",
    "    (-eval [this state]\n",
    "        (update-in state [:ds] conj this))\n",
    "    clojure.lang.Symbol\n",
    "    (-eval [this state]\n",
    "        (let [[a b & ds] (:ds state)]\n",
    "          (assoc state :ds (vec (concat ds [(+ a b)]))))\n",
    "))\n",
    "\n",
    ";;(extends? java.lang.Long IEvaluate)"
   ]
  },
  {
   "cell_type": "code",
   "execution_count": 46,
   "metadata": {},
   "outputs": [
    {
     "data": {
      "text/plain": [
       "#'vlado/init-state\n",
       "{:ds [], :ps [1 2 + 4 +], :env []}\n"
      ]
     },
     "execution_count": 46,
     "metadata": {},
     "output_type": "execute_result"
    }
   ],
   "source": [
    "(defn init-state [program]\n",
    "    (State. [] (read-string (str \"[\" program \"]\")) []))\n",
    "\n",
    "(init-state program)"
   ]
  },
  {
   "cell_type": "code",
   "execution_count": 49,
   "metadata": {},
   "outputs": [
    {
     "data": {
      "text/plain": [
       "#'vlado/interpret\n",
       "7\n"
      ]
     },
     "execution_count": 49,
     "metadata": {},
     "output_type": "execute_result"
    }
   ],
   "source": [
    "(defn interpret [program]\n",
    "    (loop [state (init-state program)]\n",
    "        (let [ch (first (:ps state))\n",
    "              state (update-in state [:ps] rest)]\n",
    "            (if ch\n",
    "                (recur (-eval ch state))\n",
    "                (first (:ds state))\n",
    "))))\n",
    "\n",
    "(interpret program)"
   ]
  }
 ],
 "metadata": {
  "kernelspec": {
   "display_name": "Clojure",
   "language": "clojure",
   "name": "clojure"
  },
  "language_info": {
   "file_extension": ".clj",
   "name": "clojure",
   "version": "1.8.0"
  }
 },
 "nbformat": 4,
 "nbformat_minor": 2
}
